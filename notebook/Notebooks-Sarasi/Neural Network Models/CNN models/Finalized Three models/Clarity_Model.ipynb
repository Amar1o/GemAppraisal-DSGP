{
  "nbformat": 4,
  "nbformat_minor": 0,
  "metadata": {
    "colab": {
      "provenance": [],
      "machine_shape": "hm"
    },
    "kernelspec": {
      "name": "python3",
      "display_name": "Python 3"
    },
    "language_info": {
      "name": "python"
    }
  },
  "cells": [
    {
      "cell_type": "code",
      "source": [
        "# Mount Google Drive (if not already mounted)\n",
        "from google.colab import drive\n",
        "drive.mount('/content/drive')"
      ],
      "metadata": {
        "colab": {
          "base_uri": "https://localhost:8080/"
        },
        "id": "aVyOeHGBENTA",
        "outputId": "a07a8d55-94ac-42a9-9992-66c406148f18"
      },
      "execution_count": null,
      "outputs": [
        {
          "output_type": "stream",
          "name": "stdout",
          "text": [
            "Mounted at /content/drive\n"
          ]
        }
      ]
    },
    {
      "cell_type": "markdown",
      "source": [
        "# Clarity Model\n",
        "\n",
        ""
      ],
      "metadata": {
        "id": "tgHqHcZf0ITT"
      }
    },
    {
      "cell_type": "code",
      "source": [
        "import tensorflow as tf\n",
        "import pandas as pd\n",
        "import os\n",
        "import numpy as np\n",
        "import matplotlib.pyplot as plt\n",
        "from tensorflow.keras.preprocessing.image import ImageDataGenerator\n",
        "from sklearn.model_selection import train_test_split\n",
        "from sklearn.metrics import classification_report\n",
        "from imblearn.over_sampling import RandomOverSampler\n",
        "\n",
        "# ==========================\n",
        "# ✅ Define Paths\n",
        "# ==========================\n",
        "csv_path = \"/content/final trget variable clarity drop shape , cut, color intensity and other features.csv\"  # Update with your CSV path\n",
        "image_base_path = \"/content/drive/MyDrive/Reupload_Images/\"  # Folder containing images\n",
        "\n",
        "# ==========================\n",
        "# ✅ Load Dataset\n",
        "# ==========================\n",
        "df = pd.read_csv(csv_path)\n",
        "\n",
        "# Convert image paths to absolute paths\n",
        "df['Image id'] = df['Image id'].apply(lambda x: os.path.join(image_base_path, x))\n",
        "\n",
        "# Ensure target variable is a string\n",
        "df['clarity'] = df['clarity'].astype(str)\n",
        "\n",
        "# ==========================\n",
        "# ✅ Check for classes with only one sample\n",
        "# ==========================\n",
        "class_counts = df['clarity'].value_counts()\n",
        "print(\"Class counts before filtering:\", class_counts)\n",
        "\n",
        "# Identify classes with only one sample\n",
        "classes_with_one_sample = class_counts[class_counts == 1].index\n",
        "print(\"Classes with only one sample:\", classes_with_one_sample)\n",
        "\n",
        "# Remove rows with classes having only one sample\n",
        "df_filtered = df[~df['clarity'].isin(classes_with_one_sample)]\n",
        "\n",
        "# ==========================\n",
        "# ✅ Oversample Minority Classes\n",
        "# ==========================\n",
        "X = df_filtered['Image id'].values.reshape(-1, 1)\n",
        "y = df_filtered['clarity'].values\n",
        "\n",
        "ros = RandomOverSampler(sampling_strategy='auto', random_state=42)\n",
        "X_resampled, y_resampled = ros.fit_resample(X, y)\n",
        "\n",
        "df_resampled = pd.DataFrame({'Image id': X_resampled.flatten(), 'clarity': y_resampled})\n",
        "\n",
        "print(\"Class counts after resampling:\", df_resampled['clarity'].value_counts())\n",
        "\n",
        "# ==========================\n",
        "# ✅ Train-Validation Split\n",
        "# ==========================\n",
        "train_df, val_df = train_test_split(df_resampled, test_size=0.2, random_state=42, stratify=df_resampled['clarity'])\n",
        "\n",
        "# ==========================\n",
        "# ✅ Define Augmentation (Adjusted for Clarity)\n",
        "# ==========================\n",
        "datagen = ImageDataGenerator(\n",
        "    rescale=1.0/255.0,\n",
        "    brightness_range=[0.8, 1.2],  # ✅ Adjusted augmentation (less geometric transformations)\n",
        "    zoom_range=0.1,  # ✅ Reduced zoom to avoid distortion\n",
        "    horizontal_flip=True,\n",
        "    fill_mode=\"nearest\"\n",
        ")\n",
        "\n",
        "# ==========================\n",
        "# ✅ Image Data Generators\n",
        "# ==========================\n",
        "train_generator = datagen.flow_from_dataframe(\n",
        "    dataframe=train_df,\n",
        "    x_col=\"Image id\",\n",
        "    y_col=\"clarity\",\n",
        "    target_size=(128, 128),\n",
        "    batch_size=32,\n",
        "    class_mode=\"categorical\",\n",
        "    shuffle=True\n",
        ")\n",
        "\n",
        "val_generator = datagen.flow_from_dataframe(\n",
        "    dataframe=val_df,\n",
        "    x_col=\"Image id\",\n",
        "    y_col=\"clarity\",\n",
        "    target_size=(128, 128),\n",
        "    batch_size=32,\n",
        "    class_mode=\"categorical\",\n",
        "    shuffle=False\n",
        ")\n",
        "\n",
        "# ==========================\n",
        "# ✅ Define CNN Model\n",
        "# ==========================\n",
        "model = tf.keras.models.Sequential([\n",
        "    tf.keras.layers.Conv2D(32, (3, 3), activation='relu', input_shape=(128, 128, 3)),\n",
        "    tf.keras.layers.MaxPooling2D((2, 2)),\n",
        "\n",
        "    tf.keras.layers.Conv2D(64, (3, 3), activation='relu'),\n",
        "    tf.keras.layers.MaxPooling2D((2, 2)),\n",
        "\n",
        "    tf.keras.layers.Conv2D(128, (3, 3), activation='relu'),\n",
        "    tf.keras.layers.MaxPooling2D((2, 2)),\n",
        "\n",
        "    tf.keras.layers.Flatten(),\n",
        "    tf.keras.layers.Dense(128, activation='relu'),\n",
        "    tf.keras.layers.Dropout(0.5),\n",
        "\n",
        "    tf.keras.layers.Dense(4, activation='softmax')  # ✅ Adjusted output layer for clarity (exactly 4 classes)\n",
        "])\n",
        "\n",
        "# ==========================\n",
        "# ✅ Compile Model\n",
        "# ==========================\n",
        "model.compile(optimizer='adam', loss='categorical_crossentropy', metrics=['accuracy'])\n",
        "\n",
        "# ==========================\n",
        "# ✅ Define Callbacks\n",
        "# ==========================\n",
        "early_stopping = tf.keras.callbacks.EarlyStopping(\n",
        "    monitor='val_loss',\n",
        "    patience=5,\n",
        "    restore_best_weights=True\n",
        ")\n",
        "\n",
        "lr_scheduler = tf.keras.callbacks.ReduceLROnPlateau(\n",
        "    monitor='val_loss',\n",
        "    factor=0.5,\n",
        "    patience=3,\n",
        "    min_lr=1e-6\n",
        ")\n",
        "\n",
        "# ==========================\n",
        "# ✅ Train Model\n",
        "# ==========================\n",
        "history = model.fit(\n",
        "    train_generator,\n",
        "    validation_data=val_generator,\n",
        "    epochs=30,\n",
        "    callbacks=[early_stopping, lr_scheduler]\n",
        ")\n",
        "\n",
        "# ==========================\n",
        "# ✅ Plot Accuracy & Loss\n",
        "# ==========================\n",
        "plt.figure(figsize=(12, 5))\n",
        "\n",
        "plt.subplot(1, 2, 1)\n",
        "plt.plot(history.history['accuracy'], label='Train Accuracy')\n",
        "plt.plot(history.history['val_accuracy'], label='Validation Accuracy')\n",
        "plt.legend()\n",
        "plt.title(\"Accuracy\")\n",
        "\n",
        "plt.subplot(1, 2, 2)\n",
        "plt.plot(history.history['loss'], label='Train Loss')\n",
        "plt.plot(history.history['val_loss'], label='Validation Loss')\n",
        "plt.legend()\n",
        "plt.title(\"Loss\")\n",
        "plt.show()\n",
        "\n",
        "# ==========================\n",
        "# ✅ Test Set Classification Report\n",
        "# ==========================\n",
        "test_generator = datagen.flow_from_dataframe(\n",
        "    dataframe=val_df,\n",
        "    x_col=\"Image id\",\n",
        "    y_col=\"clarity\",\n",
        "    target_size=(128, 128),\n",
        "    batch_size=32,\n",
        "    class_mode=\"categorical\",\n",
        "    shuffle=False\n",
        ")\n",
        "\n",
        "true_labels = test_generator.classes\n",
        "class_labels = list(test_generator.class_indices.keys())\n",
        "\n",
        "pred_probs = model.predict(test_generator)\n",
        "pred_labels = np.argmax(pred_probs, axis=1)\n",
        "\n",
        "report = classification_report(true_labels, pred_labels, target_names=class_labels)\n",
        "print(report)\n",
        "\n",
        "# ✅ Save the entire model (architecture + weights)\n",
        "model.save('clarity_classification_model01.h5')\n"
      ],
      "metadata": {
        "colab": {
          "base_uri": "https://localhost:8080/",
          "height": 1000
        },
        "id": "x6qZtDrMztkk",
        "outputId": "675c502b-6425-416b-b446-5bf10c2f8ea5"
      },
      "execution_count": null,
      "outputs": [
        {
          "metadata": {
            "tags": null
          },
          "name": "stdout",
          "output_type": "stream",
          "text": [
            "Class counts before filtering: clarity\n",
            "Very Slightly Included    8333\n",
            "Eye Clean                 2884\n",
            "Slightly Included         1312\n",
            "Included                    22\n",
            "Name: count, dtype: int64\n",
            "Classes with only one sample: Index([], dtype='object', name='clarity')\n",
            "Class counts after resampling: clarity\n",
            "Very Slightly Included    8333\n",
            "Slightly Included         8333\n",
            "Eye Clean                 8333\n",
            "Included                  8333\n",
            "Name: count, dtype: int64\n",
            "Found 26665 validated image filenames belonging to 4 classes.\n",
            "Found 6667 validated image filenames belonging to 4 classes.\n"
          ]
        },
        {
          "metadata": {
            "tags": null
          },
          "name": "stderr",
          "output_type": "stream",
          "text": [
            "/usr/local/lib/python3.11/dist-packages/keras/src/layers/convolutional/base_conv.py:107: UserWarning: Do not pass an `input_shape`/`input_dim` argument to a layer. When using Sequential models, prefer using an `Input(shape)` object as the first layer in the model instead.\n",
            "  super().__init__(activity_regularizer=activity_regularizer, **kwargs)\n",
            "/usr/local/lib/python3.11/dist-packages/keras/src/trainers/data_adapters/py_dataset_adapter.py:121: UserWarning: Your `PyDataset` class should call `super().__init__(**kwargs)` in its constructor. `**kwargs` can include `workers`, `use_multiprocessing`, `max_queue_size`. Do not pass these arguments to `fit()`, as they will be ignored.\n",
            "  self._warn_if_super_not_called()\n"
          ]
        },
        {
          "output_type": "stream",
          "name": "stdout",
          "text": [
            "Epoch 1/30\n",
            "\u001b[1m834/834\u001b[0m \u001b[32m━━━━━━━━━━━━━━━━━━━━\u001b[0m\u001b[37m\u001b[0m \u001b[1m506s\u001b[0m 604ms/step - accuracy: 0.4399 - loss: 1.1613 - val_accuracy: 0.5952 - val_loss: 0.7999 - learning_rate: 0.0010\n",
            "Epoch 2/30\n",
            "\u001b[1m834/834\u001b[0m \u001b[32m━━━━━━━━━━━━━━━━━━━━\u001b[0m\u001b[37m\u001b[0m \u001b[1m500s\u001b[0m 600ms/step - accuracy: 0.5913 - loss: 0.8084 - val_accuracy: 0.6264 - val_loss: 0.7521 - learning_rate: 0.0010\n",
            "Epoch 3/30\n",
            "\u001b[1m834/834\u001b[0m \u001b[32m━━━━━━━━━━━━━━━━━━━━\u001b[0m\u001b[37m\u001b[0m \u001b[1m498s\u001b[0m 597ms/step - accuracy: 0.6218 - loss: 0.7544 - val_accuracy: 0.6600 - val_loss: 0.6981 - learning_rate: 0.0010\n",
            "Epoch 4/30\n",
            "\u001b[1m834/834\u001b[0m \u001b[32m━━━━━━━━━━━━━━━━━━━━\u001b[0m\u001b[37m\u001b[0m \u001b[1m502s\u001b[0m 601ms/step - accuracy: 0.6410 - loss: 0.7191 - val_accuracy: 0.6750 - val_loss: 0.6958 - learning_rate: 0.0010\n",
            "Epoch 5/30\n",
            "\u001b[1m834/834\u001b[0m \u001b[32m━━━━━━━━━━━━━━━━━━━━\u001b[0m\u001b[37m\u001b[0m \u001b[1m485s\u001b[0m 582ms/step - accuracy: 0.6627 - loss: 0.6905 - val_accuracy: 0.7014 - val_loss: 0.6407 - learning_rate: 0.0010\n",
            "Epoch 6/30\n",
            "\u001b[1m834/834\u001b[0m \u001b[32m━━━━━━━━━━━━━━━━━━━━\u001b[0m\u001b[37m\u001b[0m \u001b[1m481s\u001b[0m 577ms/step - accuracy: 0.6888 - loss: 0.6514 - val_accuracy: 0.7111 - val_loss: 0.6067 - learning_rate: 0.0010\n",
            "Epoch 7/30\n",
            "\u001b[1m834/834\u001b[0m \u001b[32m━━━━━━━━━━━━━━━━━━━━\u001b[0m\u001b[37m\u001b[0m \u001b[1m482s\u001b[0m 578ms/step - accuracy: 0.7042 - loss: 0.6197 - val_accuracy: 0.7084 - val_loss: 0.6021 - learning_rate: 0.0010\n",
            "Epoch 8/30\n",
            "\u001b[1m834/834\u001b[0m \u001b[32m━━━━━━━━━━━━━━━━━━━━\u001b[0m\u001b[37m\u001b[0m \u001b[1m489s\u001b[0m 586ms/step - accuracy: 0.7198 - loss: 0.5933 - val_accuracy: 0.7477 - val_loss: 0.5600 - learning_rate: 0.0010\n",
            "Epoch 9/30\n",
            "\u001b[1m834/834\u001b[0m \u001b[32m━━━━━━━━━━━━━━━━━━━━\u001b[0m\u001b[37m\u001b[0m \u001b[1m491s\u001b[0m 588ms/step - accuracy: 0.7342 - loss: 0.5613 - val_accuracy: 0.7596 - val_loss: 0.5221 - learning_rate: 0.0010\n",
            "Epoch 10/30\n",
            "\u001b[1m834/834\u001b[0m \u001b[32m━━━━━━━━━━━━━━━━━━━━\u001b[0m\u001b[37m\u001b[0m \u001b[1m483s\u001b[0m 579ms/step - accuracy: 0.7472 - loss: 0.5385 - val_accuracy: 0.7729 - val_loss: 0.4900 - learning_rate: 0.0010\n",
            "Epoch 11/30\n",
            "\u001b[1m834/834\u001b[0m \u001b[32m━━━━━━━━━━━━━━━━━━━━\u001b[0m\u001b[37m\u001b[0m \u001b[1m502s\u001b[0m 601ms/step - accuracy: 0.7577 - loss: 0.5187 - val_accuracy: 0.7812 - val_loss: 0.4929 - learning_rate: 0.0010\n",
            "Epoch 12/30\n",
            "\u001b[1m834/834\u001b[0m \u001b[32m━━━━━━━━━━━━━━━━━━━━\u001b[0m\u001b[37m\u001b[0m \u001b[1m481s\u001b[0m 576ms/step - accuracy: 0.7728 - loss: 0.4838 - val_accuracy: 0.7839 - val_loss: 0.4873 - learning_rate: 0.0010\n",
            "Epoch 13/30\n",
            "\u001b[1m834/834\u001b[0m \u001b[32m━━━━━━━━━━━━━━━━━━━━\u001b[0m\u001b[37m\u001b[0m \u001b[1m480s\u001b[0m 576ms/step - accuracy: 0.7841 - loss: 0.4765 - val_accuracy: 0.7903 - val_loss: 0.4646 - learning_rate: 0.0010\n",
            "Epoch 14/30\n",
            "\u001b[1m834/834\u001b[0m \u001b[32m━━━━━━━━━━━━━━━━━━━━\u001b[0m\u001b[37m\u001b[0m \u001b[1m482s\u001b[0m 578ms/step - accuracy: 0.7938 - loss: 0.4568 - val_accuracy: 0.7992 - val_loss: 0.4434 - learning_rate: 0.0010\n",
            "Epoch 15/30\n",
            "\u001b[1m834/834\u001b[0m \u001b[32m━━━━━━━━━━━━━━━━━━━━\u001b[0m\u001b[37m\u001b[0m \u001b[1m482s\u001b[0m 578ms/step - accuracy: 0.8003 - loss: 0.4417 - val_accuracy: 0.8112 - val_loss: 0.4199 - learning_rate: 0.0010\n",
            "Epoch 16/30\n",
            "\u001b[1m834/834\u001b[0m \u001b[32m━━━━━━━━━━━━━━━━━━━━\u001b[0m\u001b[37m\u001b[0m \u001b[1m487s\u001b[0m 584ms/step - accuracy: 0.8062 - loss: 0.4249 - val_accuracy: 0.8173 - val_loss: 0.4075 - learning_rate: 0.0010\n",
            "Epoch 17/30\n",
            "\u001b[1m834/834\u001b[0m \u001b[32m━━━━━━━━━━━━━━━━━━━━\u001b[0m\u001b[37m\u001b[0m \u001b[1m483s\u001b[0m 579ms/step - accuracy: 0.8151 - loss: 0.4144 - val_accuracy: 0.8304 - val_loss: 0.3927 - learning_rate: 0.0010\n",
            "Epoch 18/30\n",
            "\u001b[1m834/834\u001b[0m \u001b[32m━━━━━━━━━━━━━━━━━━━━\u001b[0m\u001b[37m\u001b[0m \u001b[1m493s\u001b[0m 591ms/step - accuracy: 0.8200 - loss: 0.3978 - val_accuracy: 0.8271 - val_loss: 0.4026 - learning_rate: 0.0010\n",
            "Epoch 19/30\n",
            "\u001b[1m834/834\u001b[0m \u001b[32m━━━━━━━━━━━━━━━━━━━━\u001b[0m\u001b[37m\u001b[0m \u001b[1m489s\u001b[0m 586ms/step - accuracy: 0.8236 - loss: 0.3907 - val_accuracy: 0.8317 - val_loss: 0.3943 - learning_rate: 0.0010\n",
            "Epoch 20/30\n",
            "\u001b[1m834/834\u001b[0m \u001b[32m━━━━━━━━━━━━━━━━━━━━\u001b[0m\u001b[37m\u001b[0m \u001b[1m484s\u001b[0m 580ms/step - accuracy: 0.8351 - loss: 0.3755 - val_accuracy: 0.8365 - val_loss: 0.3769 - learning_rate: 0.0010\n",
            "Epoch 21/30\n",
            "\u001b[1m834/834\u001b[0m \u001b[32m━━━━━━━━━━━━━━━━━━━━\u001b[0m\u001b[37m\u001b[0m \u001b[1m480s\u001b[0m 576ms/step - accuracy: 0.8439 - loss: 0.3579 - val_accuracy: 0.8448 - val_loss: 0.3753 - learning_rate: 0.0010\n",
            "Epoch 22/30\n",
            "\u001b[1m834/834\u001b[0m \u001b[32m━━━━━━━━━━━━━━━━━━━━\u001b[0m\u001b[37m\u001b[0m \u001b[1m480s\u001b[0m 576ms/step - accuracy: 0.8344 - loss: 0.3671 - val_accuracy: 0.8485 - val_loss: 0.3487 - learning_rate: 0.0010\n",
            "Epoch 23/30\n",
            "\u001b[1m834/834\u001b[0m \u001b[32m━━━━━━━━━━━━━━━━━━━━\u001b[0m\u001b[37m\u001b[0m \u001b[1m489s\u001b[0m 586ms/step - accuracy: 0.8515 - loss: 0.3381 - val_accuracy: 0.8476 - val_loss: 0.3619 - learning_rate: 0.0010\n",
            "Epoch 24/30\n",
            "\u001b[1m834/834\u001b[0m \u001b[32m━━━━━━━━━━━━━━━━━━━━\u001b[0m\u001b[37m\u001b[0m \u001b[1m488s\u001b[0m 584ms/step - accuracy: 0.8558 - loss: 0.3325 - val_accuracy: 0.8539 - val_loss: 0.3439 - learning_rate: 0.0010\n",
            "Epoch 25/30\n",
            "\u001b[1m834/834\u001b[0m \u001b[32m━━━━━━━━━━━━━━━━━━━━\u001b[0m\u001b[37m\u001b[0m \u001b[1m492s\u001b[0m 590ms/step - accuracy: 0.8549 - loss: 0.3287 - val_accuracy: 0.8532 - val_loss: 0.3525 - learning_rate: 0.0010\n",
            "Epoch 26/30\n",
            "\u001b[1m834/834\u001b[0m \u001b[32m━━━━━━━━━━━━━━━━━━━━\u001b[0m\u001b[37m\u001b[0m \u001b[1m509s\u001b[0m 611ms/step - accuracy: 0.8621 - loss: 0.3252 - val_accuracy: 0.8542 - val_loss: 0.3460 - learning_rate: 0.0010\n",
            "Epoch 27/30\n",
            "\u001b[1m834/834\u001b[0m \u001b[32m━━━━━━━━━━━━━━━━━━━━\u001b[0m\u001b[37m\u001b[0m \u001b[1m488s\u001b[0m 585ms/step - accuracy: 0.8619 - loss: 0.3149 - val_accuracy: 0.8581 - val_loss: 0.3638 - learning_rate: 0.0010\n",
            "Epoch 28/30\n",
            "\u001b[1m834/834\u001b[0m \u001b[32m━━━━━━━━━━━━━━━━━━━━\u001b[0m\u001b[37m\u001b[0m \u001b[1m491s\u001b[0m 588ms/step - accuracy: 0.8746 - loss: 0.2894 - val_accuracy: 0.8779 - val_loss: 0.3123 - learning_rate: 5.0000e-04\n",
            "Epoch 29/30\n",
            "\u001b[1m834/834\u001b[0m \u001b[32m━━━━━━━━━━━━━━━━━━━━\u001b[0m\u001b[37m\u001b[0m \u001b[1m492s\u001b[0m 590ms/step - accuracy: 0.8902 - loss: 0.2561 - val_accuracy: 0.8797 - val_loss: 0.3058 - learning_rate: 5.0000e-04\n",
            "Epoch 30/30\n",
            "\u001b[1m834/834\u001b[0m \u001b[32m━━━━━━━━━━━━━━━━━━━━\u001b[0m\u001b[37m\u001b[0m \u001b[1m492s\u001b[0m 590ms/step - accuracy: 0.8866 - loss: 0.2601 - val_accuracy: 0.8785 - val_loss: 0.3025 - learning_rate: 5.0000e-04\n"
          ]
        },
        {
          "output_type": "display_data",
          "data": {
            "text/plain": [
              "<Figure size 1200x500 with 2 Axes>"
            ],
            "image/png": "[encoded data removed]"
          },
          "metadata": {}
        },
        {
          "output_type": "stream",
          "name": "stdout",
          "text": [
            "Found 6667 validated image filenames belonging to 4 classes.\n"
          ]
        },
        {
          "output_type": "stream",
          "name": "stderr",
          "text": [
            "/usr/local/lib/python3.11/dist-packages/keras/src/trainers/data_adapters/py_dataset_adapter.py:121: UserWarning: Your `PyDataset` class should call `super().__init__(**kwargs)` in its constructor. `**kwargs` can include `workers`, `use_multiprocessing`, `max_queue_size`. Do not pass these arguments to `fit()`, as they will be ignored.\n",
            "  self._warn_if_super_not_called()\n"
          ]
        },
        {
          "output_type": "stream",
          "name": "stdout",
          "text": [
            "\u001b[1m209/209\u001b[0m \u001b[32m━━━━━━━━━━━━━━━━━━━━\u001b[0m\u001b[37m\u001b[0m \u001b[1m80s\u001b[0m 384ms/step\n"
          ]
        },
        {
          "output_type": "stream",
          "name": "stderr",
          "text": [
            "WARNING:absl:You are saving your model as an HDF5 file via `model.save()` or `keras.saving.save_model(model)`. This file format is considered legacy. We recommend using instead the native Keras format, e.g. `model.save('my_model.keras')` or `keras.saving.save_model(model, 'my_model.keras')`. \n"
          ]
        },
        {
          "output_type": "stream",
          "name": "stdout",
          "text": [
            "                        precision    recall  f1-score   support\n",
            "\n",
            "             Eye Clean       0.83      0.80      0.82      1667\n",
            "              Included       1.00      1.00      1.00      1666\n",
            "     Slightly Included       0.89      0.97      0.93      1667\n",
            "Very Slightly Included       0.77      0.73      0.75      1667\n",
            "\n",
            "              accuracy                           0.88      6667\n",
            "             macro avg       0.87      0.88      0.88      6667\n",
            "          weighted avg       0.87      0.88      0.88      6667\n",
            "\n"
          ]
        }
      ]
    },
    {
      "cell_type": "markdown",
      "source": [
        "# Model Testing Code"
      ],
      "metadata": {
        "id": "jaa892Dq-1QB"
      }
    },
    {
      "cell_type": "code",
      "source": [
        "import tensorflow as tf\n",
        "import numpy as np\n",
        "import cv2\n",
        "import os\n",
        "\n",
        "# ==========================\n",
        "# ✅ Load the Saved Model\n",
        "# ==========================\n",
        "model_path = \"/content/clarity_classification_model01.h5\"  # Update the path if needed\n",
        "model = tf.keras.models.load_model(model_path)\n",
        "\n",
        "# ==========================\n",
        "# ✅ Define Image Preprocessing Function\n",
        "# ==========================\n",
        "def preprocess_image(image_path):\n",
        "    \"\"\"Loads and preprocesses an image for model prediction.\"\"\"\n",
        "    img = cv2.imread(image_path)  # Load image\n",
        "    img = cv2.cvtColor(img, cv2.COLOR_BGR2RGB)  # Convert BGR to RGB\n",
        "    img = cv2.resize(img, (128, 128))  # Resize to match training input size\n",
        "    img = img / 255.0  # Rescale pixel values (same as training)\n",
        "    img = np.expand_dims(img, axis=0)  # Add batch dimension\n",
        "    return img\n",
        "\n",
        "# ==========================\n",
        "# ✅ Define Input Image Path\n",
        "# ==========================\n",
        "image_path = \"/content/Blue Sapphire 11.jpg\"  # Replace with your image path\n",
        "\n",
        "# ==========================\n",
        "# ✅ Preprocess Input Image\n",
        "# ==========================\n",
        "preprocessed_img = preprocess_image(image_path)\n",
        "\n",
        "# ==========================\n",
        "# ✅ Make Prediction\n",
        "# ==========================\n",
        "pred_probs = model.predict(preprocessed_img)\n",
        "pred_label_index = np.argmax(pred_probs)  # Get class index\n",
        "\n",
        "# ==========================\n",
        "# ✅ Get Class Labels (Ensure Correct Order)\n",
        "# ==========================\n",
        "class_labels = [\"Eye Clean\", \"Included\", \"Slightly Included\", \"Very Slightly Included\"]\n",
        "\n",
        "\n",
        "predicted_class = class_labels[pred_label_index]\n",
        "confidence = pred_probs[0][pred_label_index] * 100  # Confidence percentage\n",
        "\n",
        "# ==========================\n",
        "# ✅ Display Prediction Result\n",
        "# ==========================\n",
        "print(f\"Predicted Clarity: {predicted_class} (Confidence: {confidence:.2f}%)\")\n"
      ],
      "metadata": {
        "colab": {
          "base_uri": "https://localhost:8080/"
        },
        "id": "45LTa8bpz-Hd",
        "outputId": "361b6cc0-38e5-401d-d378-4dd7b6d53942"
      },
      "execution_count": null,
      "outputs": [
        {
          "output_type": "stream",
          "name": "stderr",
          "text": [
            "WARNING:absl:Compiled the loaded model, but the compiled metrics have yet to be built. `model.compile_metrics` will be empty until you train or evaluate the model.\n"
          ]
        },
        {
          "output_type": "stream",
          "name": "stdout",
          "text": [
            "\u001b[1m1/1\u001b[0m \u001b[32m━━━━━━━━━━━━━━━━━━━━\u001b[0m\u001b[37m\u001b[0m \u001b[1m0s\u001b[0m 119ms/step\n",
            "Predicted Clarity: Eye Clean (Confidence: 50.66%)\n"
          ]
        }
      ]
    }
  ]
}