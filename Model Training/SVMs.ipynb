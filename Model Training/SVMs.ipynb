{
  "nbformat": 4,
  "nbformat_minor": 0,
  "metadata": {
    "colab": {
      "provenance": []
    },
    "kernelspec": {
      "name": "python3",
      "display_name": "Python 3"
    },
    "language_info": {
      "name": "python"
    }
  },
  "cells": [
    {
      "cell_type": "code",
      "source": [
        "import pandas as pd\n",
        "from sklearn.preprocessing import StandardScaler\n",
        "from sklearn.model_selection import train_test_split, GridSearchCV\n",
        "from sklearn.decomposition import PCA\n",
        "from sklearn.svm import SVC\n",
        "from sklearn.metrics import accuracy_score, f1_score, precision_score, recall_score\n",
        "import warnings\n",
        "\n",
        "# Suppress warnings\n",
        "warnings.simplefilter(action='ignore', category=FutureWarning)\n",
        "warnings.simplefilter(action='ignore', category=pd.errors.SettingWithCopyWarning)\n",
        "\n",
        "# Load the data\n",
        "data = pd.read_csv('/content/encoded_resampled_dataset.csv')  # Path to your encoded dataset\n",
        "\n",
        "# Separate Features and Target variables\n",
        "X = data.drop(columns=['clarity', 'color', 'cut'])  # Excluding target columns\n",
        "y = data[['clarity', 'color', 'cut']]  # Multi-label targets\n",
        "\n",
        "# Convert Multi-Label Targets to Multi-Class (one-hot -> label)\n",
        "y_multiclass = y.apply(lambda x: x.idxmax(), axis=1)\n",
        "\n",
        "# Split the data into Training, Validation, and Test sets\n",
        "X_train, X_temp, y_train, y_temp = train_test_split(X, y_multiclass, test_size=0.3, stratify=y_multiclass, random_state=42)\n",
        "X_val, X_test, y_val, y_test = train_test_split(X_temp, y_temp, test_size=0.5, stratify=y_temp, random_state=42)\n",
        "\n",
        "# Feature Scaling (Standardize features)\n",
        "scaler = StandardScaler()\n",
        "X_train_scaled = scaler.fit_transform(X_train)\n",
        "X_val_scaled = scaler.transform(X_val)\n",
        "X_test_scaled = scaler.transform(X_test)\n",
        "\n",
        "# Dimensionality Reduction using PCA (Reduce to components needed for 95% variance)\n",
        "pca = PCA(n_components=0.95)\n",
        "X_train_pca = pca.fit_transform(X_train_scaled)\n",
        "X_val_pca = pca.transform(X_val_scaled)\n",
        "X_test_pca = pca.transform(X_test_scaled)\n",
        "\n",
        "# Hyperparameter Tuning using GridSearchCV for SVM (Smaller grid to speed up)\n",
        "param_grid = {\n",
        "    'C': [1, 10],  # Simplified range for faster search\n",
        "    'kernel': ['rbf'],  # Only RBF for simplicity\n",
        "    'gamma': ['scale'],\n",
        "    'class_weight': [None, 'balanced']\n",
        "}\n",
        "\n",
        "svm = SVC(random_state=42)\n",
        "grid_search = GridSearchCV(svm, param_grid, cv=3, scoring='accuracy', n_jobs=-1, verbose=0)  # Parallelize GridSearchCV\n",
        "grid_search.fit(X_train_pca, y_train)\n",
        "\n",
        "# Best Parameters\n",
        "best_params = grid_search.best_params_\n",
        "print(f\"Best Parameters: {best_params}\")\n",
        "\n",
        "# Best Model\n",
        "best_svm = grid_search.best_estimator_\n",
        "\n",
        "# Train on the best model\n",
        "best_svm.fit(X_train_pca, y_train)\n",
        "\n",
        "# Evaluate the Model\n",
        "y_train_pred = best_svm.predict(X_train_pca)\n",
        "y_val_pred = best_svm.predict(X_val_pca)\n",
        "y_test_pred = best_svm.predict(X_test_pca)\n",
        "\n",
        "# Accuracy Scores\n",
        "train_accuracy = accuracy_score(y_train, y_train_pred)\n",
        "val_accuracy = accuracy_score(y_val, y_val_pred)\n",
        "test_accuracy = accuracy_score(y_test, y_test_pred)\n",
        "\n",
        "# F1-Score\n",
        "train_f1 = f1_score(y_train, y_train_pred, average='weighted')\n",
        "val_f1 = f1_score(y_val, y_val_pred, average='weighted')\n",
        "test_f1 = f1_score(y_test, y_test_pred, average='weighted')\n",
        "\n",
        "# Precision and Recall\n",
        "train_precision = precision_score(y_train, y_train_pred, average='weighted')\n",
        "val_precision = precision_score(y_val, y_val_pred, average='weighted')\n",
        "test_precision = precision_score(y_test, y_test_pred, average='weighted')\n",
        "\n",
        "train_recall = recall_score(y_train, y_train_pred, average='weighted')\n",
        "val_recall = recall_score(y_val, y_val_pred, average='weighted')\n",
        "test_recall = recall_score(y_test, y_test_pred, average='weighted')\n",
        "\n",
        "# Print the Results\n",
        "print(f\"\\nTuned SVM Results\")\n",
        "print(f\"Train Accuracy: {train_accuracy:.2f}\")\n",
        "print(f\"Validation Accuracy: {val_accuracy:.2f}\")\n",
        "print(f\"Test Accuracy: {test_accuracy:.2f}\")\n",
        "print(f\"Train F1-Score: {train_f1:.2f}\")\n",
        "print(f\"Validation F1-Score: {val_f1:.2f}\")\n",
        "print(f\"Test F1-Score: {test_f1:.2f}\")\n",
        "print(f\"Train Precision: {train_precision:.2f}\")\n",
        "print(f\"Validation Precision: {val_precision:.2f}\")\n",
        "print(f\"Test Precision: {test_precision:.2f}\")\n",
        "print(f\"Train Recall: {train_recall:.2f}\")\n",
        "print(f\"Validation Recall: {val_recall:.2f}\")\n",
        "print(f\"Test Recall: {test_recall:.2f}\")\n"
      ],
      "metadata": {
        "colab": {
          "base_uri": "https://localhost:8080/"
        },
        "id": "M3zLPmnL4-R8",
        "outputId": "afb55ccd-be3e-479e-ae5a-3adef989b8a9"
      },
      "execution_count": 10,
      "outputs": [
        {
          "output_type": "stream",
          "name": "stdout",
          "text": [
            "Best Parameters: {'C': 1, 'class_weight': None, 'gamma': 'scale', 'kernel': 'rbf'}\n",
            "\n",
            "Tuned SVM Results\n",
            "Train Accuracy: 0.99\n",
            "Validation Accuracy: 0.98\n",
            "Test Accuracy: 0.98\n",
            "Train F1-Score: 0.98\n",
            "Validation F1-Score: 0.98\n",
            "Test F1-Score: 0.98\n",
            "Train Precision: 0.99\n",
            "Validation Precision: 0.98\n",
            "Test Precision: 0.98\n",
            "Train Recall: 0.99\n",
            "Validation Recall: 0.98\n",
            "Test Recall: 0.98\n"
          ]
        }
      ]
    },
    {
      "cell_type": "code",
      "source": [
        "# Print the Results with 4 decimal places\n",
        "print(f\"\\nTuned SVM Results\")\n",
        "print(f\"Train Accuracy: {train_accuracy:.4f}\")\n",
        "print(f\"Validation Accuracy: {val_accuracy:.4f}\")\n",
        "print(f\"Test Accuracy: {test_accuracy:.4f}\")\n",
        "print(f\"Train F1-Score: {train_f1:.4f}\")\n",
        "print(f\"Validation F1-Score: {val_f1:.4f}\")\n",
        "print(f\"Test F1-Score: {test_f1:.4f}\")\n",
        "print(f\"Train Precision: {train_precision:.4f}\")\n",
        "print(f\"Validation Precision: {val_precision:.4f}\")\n",
        "print(f\"Test Precision: {test_precision:.4f}\")\n",
        "print(f\"Train Recall: {train_recall:.4f}\")\n",
        "print(f\"Validation Recall: {val_recall:.4f}\")\n",
        "print(f\"Test Recall: {test_recall:.4f}\")\n"
      ],
      "metadata": {
        "colab": {
          "base_uri": "https://localhost:8080/"
        },
        "id": "Q06CUaz-axWI",
        "outputId": "d529df08-047b-435b-e0c4-f153a9fcc1b3"
      },
      "execution_count": 11,
      "outputs": [
        {
          "output_type": "stream",
          "name": "stdout",
          "text": [
            "\n",
            "Tuned SVM Results\n",
            "Train Accuracy: 0.9858\n",
            "Validation Accuracy: 0.9818\n",
            "Test Accuracy: 0.9811\n",
            "Train F1-Score: 0.9844\n",
            "Validation F1-Score: 0.9797\n",
            "Test F1-Score: 0.9791\n",
            "Train Precision: 0.9858\n",
            "Validation Precision: 0.9816\n",
            "Test Precision: 0.9803\n",
            "Train Recall: 0.9858\n",
            "Validation Recall: 0.9818\n",
            "Test Recall: 0.9811\n"
          ]
        }
      ]
    },
    {
      "cell_type": "code",
      "source": [
        "from sklearn.metrics import confusion_matrix\n",
        "import numpy as np\n",
        "\n",
        "# Compute confusion matrices\n",
        "train_confusion_matrix = confusion_matrix(y_train, y_train_pred)\n",
        "val_confusion_matrix = confusion_matrix(y_val, y_val_pred)\n",
        "test_confusion_matrix = confusion_matrix(y_test, y_test_pred)\n",
        "\n",
        "# Print confusion matrices\n",
        "print(\"\\nConfusion Matrix - Train Set\")\n",
        "print(train_confusion_matrix)\n",
        "\n",
        "print(\"\\nConfusion Matrix - Validation Set\")\n",
        "print(val_confusion_matrix)\n",
        "\n",
        "print(\"\\nConfusion Matrix - Test Set\")\n",
        "print(test_confusion_matrix)\n"
      ],
      "metadata": {
        "colab": {
          "base_uri": "https://localhost:8080/"
        },
        "id": "fZn6iA3EnCT2",
        "outputId": "2f2bc4eb-1afb-4013-9d9c-6e2e72fda925"
      },
      "execution_count": 12,
      "outputs": [
        {
          "output_type": "stream",
          "name": "stdout",
          "text": [
            "\n",
            "Confusion Matrix - Train Set\n",
            "[[  353    42     9]\n",
            " [    0 92705    18]\n",
            " [    2  1307  2446]]\n",
            "\n",
            "Confusion Matrix - Validation Set\n",
            "[[   67    17     3]\n",
            " [    3 19854    12]\n",
            " [    1   341   463]]\n",
            "\n",
            "Confusion Matrix - Test Set\n",
            "[[   60    22     5]\n",
            " [    0 19835    35]\n",
            " [    1   329   474]]\n"
          ]
        }
      ]
    },
    {
      "cell_type": "code",
      "source": [
        "import seaborn as sns\n",
        "import matplotlib.pyplot as plt\n",
        "\n",
        "# Helper function to plot a single confusion matrix\n",
        "def plot_single_confusion_matrix(ax, cm, title, labels):\n",
        "    sns.heatmap(cm, annot=True, fmt='d', cmap='Blues', xticklabels=labels, yticklabels=labels, ax=ax, cbar=False)\n",
        "    ax.set_title(title)\n",
        "    ax.set_xlabel(\"Predicted Labels\")\n",
        "    ax.set_ylabel(\"True Labels\")\n",
        "\n",
        "# Plot all confusion matrices side by side\n",
        "fig, axes = plt.subplots(1, 3, figsize=(15, 5))  # 1 row, 3 columns, adjust figure size as needed\n",
        "\n",
        "# Assuming unique class labels are consistent across datasets\n",
        "class_labels = np.unique(y_train)  # Update if needed\n",
        "\n",
        "# Plot each confusion matrix\n",
        "plot_single_confusion_matrix(axes[0], train_confusion_matrix, \"Train Set\", class_labels)\n",
        "plot_single_confusion_matrix(axes[1], val_confusion_matrix, \"Validation Set\", class_labels)\n",
        "plot_single_confusion_matrix(axes[2], test_confusion_matrix, \"Test Set\", class_labels)\n",
        "\n",
        "# Adjust layout and display the plot\n",
        "plt.tight_layout()\n",
        "plt.show()\n"
      ],
      "metadata": {
        "colab": {
          "base_uri": "https://localhost:8080/",
          "height": 439
        },
        "id": "WIyZB9frnHJg",
        "outputId": "02409ae2-3de1-414c-acba-fdd6caf16a2d"
      },
      "execution_count": 14,
      "outputs": [
        {
          "output_type": "display_data",
          "data": {
            "text/plain": [
              "<Figure size 1500x500 with 3 Axes>"
            ],
            "image/png": "[encoded data removed]"
          },
          "metadata": {}
        }
      ]
    }
  ]
}