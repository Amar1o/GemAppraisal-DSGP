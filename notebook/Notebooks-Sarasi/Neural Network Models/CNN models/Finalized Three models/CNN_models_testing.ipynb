{
  "nbformat": 4,
  "nbformat_minor": 0,
  "metadata": {
    "colab": {
      "provenance": []
    },
    "kernelspec": {
      "name": "python3",
      "display_name": "Python 3"
    },
    "language_info": {
      "name": "python"
    }
  },
  "cells": [
    {
      "cell_type": "markdown",
      "source": [
        "#  Models testing code"
      ],
      "metadata": {
        "id": "FA-Wg5Bz8IMA"
      }
    },
    {
      "cell_type": "code",
      "source": [
        "import numpy as np\n",
        "import tensorflow as tf\n",
        "import cv2\n",
        "import os\n",
        "from tensorflow.keras.preprocessing import image\n",
        "from tensorflow.keras.utils import img_to_array\n",
        "\n",
        "\n",
        "# ==========================\n",
        "# ✅ Load All Trained Models\n",
        "# ==========================\n",
        "shape_model = tf.keras.models.load_model(\"/content/shape_classification_model.h5\")\n",
        "cut_model = tf.keras.models.load_model(\"/content/picture cut.h5\")  # Update if needed\n",
        "clarity_model = tf.keras.models.load_model(\"/content/clarity_classification_model01.h5\")\n",
        "\n",
        "# ==========================\n",
        "# ✅ Define Class Labels (Ensure Correct Order)\n",
        "# ==========================\n",
        "shape_labels = [\n",
        "    \"Asscher - Octagon\", \"Cushion\", \"Emerald Cut\", \"Fancy\", \"Heart\",\n",
        "    \"Marquise\", \"Oval\", \"Pear\", \"Princess\", \"Radiant\",\n",
        "    \"Round\", \"Trillion\"\n",
        "]\n",
        "\n",
        "cut_labels = [\n",
        "    \"Asscher\", \"Brilliant\", \"Emerald Cut\", \"Fancy Brilliant\", \"Fancy Cut\",\n",
        "    \"Mixed Brilliant\", \"Modified Brilliant\", \"Princess Cut\", \"Radiant Cut\",\n",
        "    \"Scissor Cut\", \"Step Cut\", \"Trillion Cut\"\n",
        "]\n",
        "\n",
        "clarity_labels = [\"Eye Clean\", \"Included\", \"Slightly Included\", \"Very Slightly Included\"]\n",
        "\n",
        "# ==========================\n",
        "# ✅ Image Preprocessing Functions (Specific to Each Model)\n",
        "# ==========================\n",
        "def preprocess_shape_image(image_path):\n",
        "    img = cv2.imread(image_path)\n",
        "    if img is None:\n",
        "        raise ValueError(f\"Error loading image: {image_path}\")\n",
        "    img = cv2.cvtColor(img, cv2.COLOR_BGR2RGB)\n",
        "    img = cv2.resize(img, (128, 128))\n",
        "    img = img_to_array(img)\n",
        "    img = img / 255.0\n",
        "    img = np.expand_dims(img, axis=0)\n",
        "    return img\n",
        "\n",
        "def preprocess_cut_image(image_path):\n",
        "    img = image.load_img(image_path, target_size=(128, 128))\n",
        "    img_array = image.img_to_array(img)\n",
        "    img_array = np.expand_dims(img_array, axis=0)\n",
        "    img_array = img_array / 255.0\n",
        "    return img_array\n",
        "\n",
        "def preprocess_clarity_image(image_path):\n",
        "    img = cv2.imread(image_path)\n",
        "    img = cv2.cvtColor(img, cv2.COLOR_BGR2RGB)\n",
        "    img = cv2.resize(img, (128, 128))\n",
        "    img = img / 255.0\n",
        "    img = np.expand_dims(img, axis=0)\n",
        "    return img\n",
        "\n",
        "# ==========================\n",
        "# ✅ Prediction Functions\n",
        "# ==========================\n",
        "def predict_shape(image_path):\n",
        "    img = preprocess_shape_image(image_path)\n",
        "    predictions = shape_model.predict(img)\n",
        "    predicted_index = np.argmax(predictions, axis=1)[0]\n",
        "    confidence = np.max(predictions)\n",
        "    return shape_labels[predicted_index], confidence\n",
        "\n",
        "def predict_cut(image_path):\n",
        "    img = preprocess_cut_image(image_path)\n",
        "    predictions = cut_model.predict(img)\n",
        "    predicted_index = np.argmax(predictions, axis=1)[0]\n",
        "    confidence = np.max(predictions)\n",
        "    return cut_labels[predicted_index], confidence\n",
        "\n",
        "def predict_clarity(image_path):\n",
        "    img = preprocess_clarity_image(image_path)\n",
        "    predictions = clarity_model.predict(img)\n",
        "    predicted_index = np.argmax(predictions, axis=1)[0]\n",
        "    confidence = np.max(predictions)\n",
        "    return clarity_labels[predicted_index], confidence\n",
        "\n",
        "# ==========================\n",
        "# ✅ Main Function to Predict All Three\n",
        "# ==========================\n",
        "def predict_gemstone_properties(image_path):\n",
        "    shape, shape_conf = predict_shape(image_path)\n",
        "    cut, cut_conf = predict_cut(image_path)\n",
        "    clarity, clarity_conf = predict_clarity(image_path)\n",
        "\n",
        "    print(\"================ Predictions ================\")\n",
        "    print(f\"Predicted Shape: {shape} (Confidence: {shape_conf:.2f})\")\n",
        "    print(f\"Predicted Cut: {cut} (Confidence: {cut_conf:.2f})\")\n",
        "    print(f\"Predicted Clarity: {clarity} (Confidence: {clarity_conf:.2f})\")\n",
        "    print(\"============================================\")\n",
        "\n",
        "    return {\n",
        "        \"shape\": (shape, shape_conf),\n",
        "        \"cut\": (cut, cut_conf),\n",
        "        \"clarity\": (clarity, clarity_conf)\n",
        "    }\n",
        "\n",
        "# ==========================\n",
        "# ✅ Example Usage\n",
        "# ==========================\n",
        "image_path = \"/content/Pink Sapphire 240.jpg\"  # Update with the actual image path\n",
        "\n",
        "predictions = predict_gemstone_properties(image_path)"
      ],
      "metadata": {
        "colab": {
          "base_uri": "https://localhost:8080/"
        },
        "id": "_v6Ur1ie8IYW",
        "outputId": "13f05adb-f0d3-45ec-f7bd-fdcd59a5e87e"
      },
      "execution_count": 35,
      "outputs": [
        {
          "output_type": "stream",
          "name": "stderr",
          "text": [
            "WARNING:absl:Compiled the loaded model, but the compiled metrics have yet to be built. `model.compile_metrics` will be empty until you train or evaluate the model.\n",
            "WARNING:absl:Compiled the loaded model, but the compiled metrics have yet to be built. `model.compile_metrics` will be empty until you train or evaluate the model.\n",
            "WARNING:absl:Compiled the loaded model, but the compiled metrics have yet to be built. `model.compile_metrics` will be empty until you train or evaluate the model.\n"
          ]
        },
        {
          "output_type": "stream",
          "name": "stdout",
          "text": [
            "\u001b[1m1/1\u001b[0m \u001b[32m━━━━━━━━━━━━━━━━━━━━\u001b[0m\u001b[37m\u001b[0m \u001b[1m0s\u001b[0m 406ms/step\n",
            "\u001b[1m1/1\u001b[0m \u001b[32m━━━━━━━━━━━━━━━━━━━━\u001b[0m\u001b[37m\u001b[0m \u001b[1m0s\u001b[0m 201ms/step\n",
            "\u001b[1m1/1\u001b[0m \u001b[32m━━━━━━━━━━━━━━━━━━━━\u001b[0m\u001b[37m\u001b[0m \u001b[1m0s\u001b[0m 168ms/step\n",
            "================ Predictions ================\n",
            "Predicted Shape: Pear (Confidence: 1.00)\n",
            "Predicted Cut: Trillion Cut (Confidence: 0.93)\n",
            "Predicted Clarity: Eye Clean (Confidence: 0.73)\n",
            "============================================\n"
          ]
        }
      ]
    }
  ]
}